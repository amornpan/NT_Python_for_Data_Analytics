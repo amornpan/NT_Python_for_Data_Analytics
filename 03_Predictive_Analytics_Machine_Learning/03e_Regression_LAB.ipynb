{
 "cells": [
  {
   "cell_type": "markdown",
   "metadata": {},
   "source": [
    "# 03e: Regression LAB - Interest Rate Prediction\n",
    "\n",
    "## วัตถุประสงค์การเรียนรู้\n",
    "- ใช้ข้อมูล LoanStats ทำนายอัตราดอกเบี้ย\n",
    "- ฝึกฝน Feature Engineering สำหรับ Regression\n",
    "- เปรียบเทียบ Regression algorithms\n",
    "- ทำ Model Evaluation และ Interpretation\n",
    "\n",
    "---"
   ]
  },
  {
   "cell_type": "markdown",
   "metadata": {},
   "source": [
    "## 1. Data Loading และ Initial Exploration"
   ]
  },
  {
   "cell_type": "code",
   "execution_count": null,
   "metadata": {},
   "outputs": [],
   "source": [
    "import pandas as pd\n",
    "import numpy as np\n",
    "import matplotlib.pyplot as plt\n",
    "import seaborn as sns\n",
    "from sklearn.model_selection import train_test_split\n",
    "from sklearn.preprocessing import StandardScaler, LabelEncoder\n",
    "from sklearn.linear_model import LinearRegression, Ridge, Lasso\n",
    "from sklearn.ensemble import RandomForestRegressor\n",
    "from sklearn.metrics import mean_squared_error, r2_score, mean_absolute_error\n",
    "import warnings\n",
    "warnings.filterwarnings('ignore')\n",
    "\n",
    "# โหลดข้อมูล\n",
    "loan_data = pd.read_csv('../datasets/LoanStats_web_14422.csv')\n",
    "\n",
    "print(f\"ขนาดข้อมูล: {loan_data.shape}\")\n",
    "print(\"\\nTarget: อัตราดอกเบี้ย (int_rate)\")\n",
    "print(loan_data['int_rate'].describe())"
   ]
  },
  {
   "cell_type": "code",
   "execution_count": null,
   "metadata": {},
   "outputs": [],
   "source": [
    "# เลือก features สำหรับ regression\n",
    "features = [\n",
    "    'loan_amnt', 'annual_inc', 'dti', 'emp_length',\n",
    "    'home_ownership', 'verification_status', 'purpose', 'grade',\n",
    "    'int_rate'  # target\n",
    "]\n",
    "\n",
    "df = loan_data[features].copy()\n",
    "df = df.dropna(subset=['int_rate'])  # ลบแถวที่ target หายไป\n",
    "\n",
    "print(f\"Dataset ใหม่: {df.shape}\")\n",
    "print(\"\\nการกระจายของอัตราดอกเบี้ย:\")\n",
    "\n",
    "plt.figure(figsize=(12, 4))\n",
    "plt.subplot(1, 2, 1)\n",
    "plt.hist(df['int_rate'], bins=50, alpha=0.7)\n",
    "plt.title('Distribution of Interest Rate')\n",
    "plt.xlabel('Interest Rate (%)')\n",
    "\n",
    "plt.subplot(1, 2, 2)\n",
    "plt.boxplot(df['int_rate'])\n",
    "plt.title('Interest Rate Boxplot')\n",
    "plt.ylabel('Interest Rate (%)')\n",
    "\n",
    "plt.tight_layout()\n",
    "plt.show()"
   ]
  },
  {
   "cell_type": "markdown",
   "metadata": {},
   "source": [
    "## สรุป\n",
    "- โหลดข้อมูล LoanStats สำเร็จ\n",
    "- Target: อัตราดอกเบี้ย (int_rate)\n",
    "- มี features ทั้งตัวเลขและหมวดหมู่\n",
    "\n",
    "### Next: Feature Engineering และ Data Preprocessing"
   ]
  }
 ],
 "metadata": {
  "kernelspec": {
   "display_name": "Python 3",
   "language": "python",
   "name": "python3"
  },
  "language_info": {
   "name": "python",
   "version": "3.8.5"
  }
 },
 "nbformat": 4,
 "nbformat_minor": 4
}
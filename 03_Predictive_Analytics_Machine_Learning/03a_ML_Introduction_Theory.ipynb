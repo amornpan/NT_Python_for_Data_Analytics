{
 "cells": [
  {
   "cell_type": "markdown",
   "metadata": {},
   "source": [
    "# 03a: Introduction to Machine Learning\n",
    "\n",
    "## วัตถุประสงค์การเรียนรู้\n",
    "- เข้าใจความแตกต่างระหว่าง Descriptive และ Predictive Analytics\n",
    "- ทำความเข้าใจประเภทของ Machine Learning\n",
    "- เรียนรู้ขั้นตอนการทำงานของ Machine Learning\n",
    "\n",
    "---"
   ]
  },
  {
   "cell_type": "markdown",
   "metadata": {},
   "source": [
    "## 1. Descriptive vs Predictive Analytics\n",
    "\n",
    "### Descriptive Analytics\n",
    "- **คำถาม**: \"เกิดอะไรขึ้นในอดีต?\"\n",
    "- **วัตถุประสงค์**: อธิบายและสรุปข้อมูลในอดีต\n",
    "- **เครื่องมือ**: สถิติพื้นฐาน, กราฟ, Dashboard\n",
    "\n",
    "### Predictive Analytics\n",
    "- **คำถาม**: \"จะเกิดอะไรขึ้นในอนาคต?\"\n",
    "- **วัตถุประสงค์**: ทำนายเหตุการณ์ในอนาคต\n",
    "- **เครื่องมือ**: Machine Learning, Statistical Modeling"
   ]
  },
  {
   "cell_type": "code",
   "execution_count": null,
   "metadata": {},
   "outputs": [],
   "source": [
    "import pandas as pd\n",
    "import numpy as np\n",
    "import matplotlib.pyplot as plt\n",
    "\n",
    "# สร้างข้อมูลตัวอย่างยอดขาย\n",
    "np.random.seed(42)\n",
    "dates = pd.date_range(start='2023-01-01', end='2024-12-31', freq='M')\n",
    "trend = np.linspace(1000, 1500, len(dates))\n",
    "seasonal = 200 * np.sin(2 * np.pi * np.arange(len(dates)) / 12)\n",
    "noise = np.random.normal(0, 50, len(dates))\n",
    "sales = trend + seasonal + noise\n",
    "\n",
    "sales_data = pd.DataFrame({'date': dates, 'sales': sales})\n",
    "print(\"ข้อมูลยอดขาย:\")\n",
    "print(sales_data.head())"
   ]
  },
  {
   "cell_type": "markdown",
   "metadata": {},
   "source": [
    "## 2. ประเภทของ Machine Learning\n",
    "\n",
    "### Supervised Learning\n",
    "- มีข้อมูลเป้าหมาย (Target/Label)\n",
    "- **Classification**: ทำนายหมวดหมู่\n",
    "- **Regression**: ทำนายค่าต่อเนื่อง\n",
    "\n",
    "### Unsupervised Learning\n",
    "- ไม่มีข้อมูลเป้าหมาย\n",
    "- หาแพทเทิร์นในข้อมูล\n",
    "- ตัวอย่าง: Clustering\n",
    "\n",
    "### Reinforcement Learning\n",
    "- เรียนรู้ผ่านการลองผิดลองถูก\n",
    "- ได้รับ Reward/Penalty"
   ]
  },
  {
   "cell_type": "code",
   "execution_count": null,
   "metadata": {},
   "outputs": [],
   "source": [
    "from sklearn.datasets import make_classification, make_regression, make_blobs\n",
    "\n",
    "# สร้างข้อมูลตัวอย่าง\n",
    "X_class, y_class = make_classification(n_samples=200, n_features=2, \n",
    "                                      n_redundant=0, random_state=42)\n",
    "X_reg, y_reg = make_regression(n_samples=200, n_features=1, \n",
    "                              noise=10, random_state=42)\n",
    "X_cluster, _ = make_blobs(n_samples=200, centers=3, \n",
    "                         n_features=2, random_state=42)\n",
    "\n",
    "# แสดงผล\n",
    "fig, axes = plt.subplots(1, 3, figsize=(15, 4))\n",
    "\n",
    "axes[0].scatter(X_class[:, 0], X_class[:, 1], c=y_class, cmap='viridis')\n",
    "axes[0].set_title('Classification')\n",
    "\n",
    "axes[1].scatter(X_reg, y_reg, alpha=0.7)\n",
    "axes[1].set_title('Regression')\n",
    "\n",
    "axes[2].scatter(X_cluster[:, 0], X_cluster[:, 1], alpha=0.7)\n",
    "axes[2].set_title('Clustering')\n",
    "\n",
    "plt.tight_layout()\n",
    "plt.show()"
   ]
  },
  {
   "cell_type": "markdown",
   "metadata": {},
   "source": [
    "## 3. Machine Learning Workflow\n",
    "\n",
    "1. **Problem Definition** - กำหนดปัญหา\n",
    "2. **Data Collection** - รวบรวมข้อมูล\n",
    "3. **Data Preprocessing** - เตรียมข้อมูล\n",
    "4. **Feature Engineering** - สร้าง Features\n",
    "5. **Model Selection** - เลือกอัลกอริทึม\n",
    "6. **Model Training** - ฝึกแบบจำลอง\n",
    "7. **Model Evaluation** - ประเมินประสิทธิภาพ\n",
    "8. **Model Deployment** - นำไปใช้งาน"
   ]
  },
  {
   "cell_type": "code",
   "execution_count": null,
   "metadata": {},
   "outputs": [],
   "source": [
    "# ตัวอย่าง ML Workflow\n",
    "from sklearn.model_selection import train_test_split\n",
    "from sklearn.linear_model import LinearRegression\n",
    "from sklearn.metrics import mean_squared_error, r2_score\n",
    "\n",
    "# 1. Problem: ทำนายยอดขาย\n",
    "# 2. Data: ใช้ข้อมูลที่สร้างไว้\n",
    "# 3. Preprocessing: แปลงวันที่เป็นตัวเลข\n",
    "sales_data['date_numeric'] = (sales_data['date'] - sales_data['date'].min()).dt.days\n",
    "\n",
    "# 4. Features\n",
    "X = sales_data[['date_numeric']]\n",
    "y = sales_data['sales']\n",
    "\n",
    "# 5-6. Model Selection & Training\n",
    "X_train, X_test, y_train, y_test = train_test_split(X, y, test_size=0.2, random_state=42)\n",
    "model = LinearRegression()\n",
    "model.fit(X_train, y_train)\n",
    "\n",
    "# 7. Evaluation\n",
    "y_pred = model.predict(X_test)\n",
    "print(f\"R² Score: {r2_score(y_test, y_pred):.3f}\")\n",
    "\n",
    "# Visualization\n",
    "plt.figure(figsize=(10, 4))\n",
    "plt.scatter(X_test, y_test, alpha=0.7, label='Actual')\n",
    "plt.scatter(X_test, y_pred, alpha=0.7, label='Predicted')\n",
    "plt.legend()\n",
    "plt.title('Sales Prediction')\n",
    "plt.show()"
   ]
  },
  {
   "cell_type": "markdown",
   "metadata": {},
   "source": [
    "## สรุป\n",
    "\n",
    "- **Descriptive Analytics**: วิเคราะห์อดีต\n",
    "- **Predictive Analytics**: ทำนายอนาคต\n",
    "- **ML Types**: Supervised, Unsupervised, Reinforcement\n",
    "- **Workflow**: จากปัญหาถึงการใช้งาน\n",
    "\n",
    "### Next: Classification Algorithms"
   ]
  }
 ],
 "metadata": {
  "kernelspec": {
   "display_name": "Python 3",
   "language": "python",
   "name": "python3"
  },
  "language_info": {
   "codemirror_mode": {
    "name": "ipython",
    "version": 3
   },
   "file_extension": ".py",
   "mimetype": "text/x-python",
   "name": "python",
   "nbconvert_exporter": "python",
   "pygments_lexer": "ipython3",
   "version": "3.8.5"
  }
 },
 "nbformat": 4,
 "nbformat_minor": 4
}
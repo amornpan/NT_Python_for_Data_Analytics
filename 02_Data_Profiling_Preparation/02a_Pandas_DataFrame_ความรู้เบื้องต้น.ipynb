{
 "cells": [
  {
   "cell_type": "markdown",
   "metadata": {},
   "source": [
    "# 🐼 Pandas DataFrame คืออะไร?\n",
    "\n",
    "**บทเรียนที่ 2.1a - ความรู้เบื้องต้น**\n",
    "\n",
    "---"
   ]
  },
  {
   "cell_type": "markdown",
   "metadata": {},
   "source": [
    "## 🎯 วัตถุประสงค์\n",
    "\n",
    "หลังจากเรียนบทนี้แล้ว ผู้เรียนจะสามารถ:\n",
    "- เข้าใจความหมายและโครงสร้างของ Pandas DataFrame\n",
    "- สร้าง DataFrame จากข้อมูลต่างๆ\n",
    "- ดูข้อมูลเบื้องต้นของ DataFrame\n",
    "- เข้าใจความแตกต่างระหว่าง DataFrame กับโครงสร้างข้อมูลอื่น"
   ]
  },
  {
   "cell_type": "markdown",
   "metadata": {},
   "source": [
    "## 📖 ความหมาย\n",
    "\n",
    "**Pandas DataFrame** คือ โครงสร้างข้อมูลแบบตาราง (2 มิติ) ที่:\n",
    "\n",
    "### ✨ ลักษณะเด่น\n",
    "- มีแถว (rows) และคอลัมน์ (columns)\n",
    "- แต่ละคอลัมน์สามารถมีชนิดข้อมูลต่างกันได้\n",
    "- มี index สำหรับแถวและคอลัมน์\n",
    "- สามารถจัดการข้อมูลได้อย่างยืดหยุ่น\n",
    "\n",
    "### 💡 เปรียบเทียบง่ายๆ\n",
    "คิดเหมือน **Excel Spreadsheet** แต่อยู่ใน Python:\n",
    "- แถว = แต่ละรายการข้อมูล (เช่น ลูกค้าแต่ละคน)\n",
    "- คอลัมน์ = คุณสมบัติต่างๆ (เช่น ชื่อ, อายุ, เงินเดือน)\n",
    "- เซลล์ = ค่าข้อมูลแต่ละตัว"
   ]
  },
  {
   "cell_type": "code",
   "execution_count": null,
   "metadata": {},
   "outputs": [],
   "source": [
    "# นำเข้า Pandas\n",
    "import pandas as pd\n",
    "import numpy as np\n",
    "\n",
    "print(\"🐼 ยินดีต้อนรับสู่โลกของ Pandas!\")\n",
    "print(f\"📦 Pandas version: {pd.__version__}\")"
   ]
  },
  {
   "cell_type": "markdown",
   "metadata": {},
   "source": [
    "## 🏗️ การสร้าง DataFrame\n",
    "\n",
    "มีหลายวิธีในการสร้าง DataFrame"
   ]
  },
  {
   "cell_type": "code",
   "execution_count": null,
   "metadata": {},
   "outputs": [],
   "source": [
    "# วิธีที่ 1: สร้างจาก Dictionary\n",
    "\n",
    "# ข้อมูลลูกค้า Lending Club (ตัวอย่าง)\n",
    "customer_data = {\n",
    "    'customer_id': ['LC001', 'LC002', 'LC003', 'LC004', 'LC005'],\n",
    "    'age': [28, 35, 42, 31, 29],\n",
    "    'annual_income': [450000, 650000, 800000, 520000, 480000],\n",
    "    'loan_amount': [200000, 300000, 350000, 250000, 180000],\n",
    "    'loan_purpose': ['การศึกษา', 'ซื้อรถ', 'ปรับปรุงบ้าน', 'ผ่อนหนี้', 'ธุรกิจ']\n",
    "}\n",
    "\n",
    "# สร้าง DataFrame\n",
    "df_customers = pd.DataFrame(customer_data)\n",
    "\n",
    "print(\"📊 ตัวอย่าง DataFrame ข้อมูลลูกค้า:\")\n",
    "print(df_customers)"
   ]
  },
  {
   "cell_type": "code",
   "execution_count": null,
   "metadata": {},
   "outputs": [],
   "source": [
    "# วิธีที่ 2: สร้างจาก List of Lists\n",
    "\n",
    "# ข้อมูลในรูปแบบ list\n",
    "loan_data = [\n",
    "    ['A', 8.5, 36, 'Paid'],\n",
    "    ['B', 12.3, 60, 'Current'],\n",
    "    ['C', 15.1, 36, 'Default'],\n",
    "    ['A', 9.8, 48, 'Paid'],\n",
    "    ['B', 11.2, 60, 'Current']\n",
    "]\n",
    "\n",
    "# กำหนดชื่อคอลัมน์\n",
    "columns = ['grade', 'interest_rate', 'term_months', 'loan_status']\n",
    "\n",
    "# สร้าง DataFrame\n",
    "df_loans = pd.DataFrame(loan_data, columns=columns)\n",
    "\n",
    "print(\"\\n📊 ตัวอย่าง DataFrame ข้อมูลเงินกู้:\")\n",
    "print(df_loans)"
   ]
  },
  {
   "cell_type": "code",
   "execution_count": null,
   "metadata": {},
   "outputs": [],
   "source": [
    "# วิธีที่ 3: สร้าง DataFrame ว่าง แล้วเพิ่มข้อมูลทีละคอลัมน์\n",
    "\n",
    "# สร้าง DataFrame ว่าง\n",
    "df_empty = pd.DataFrame()\n",
    "\n",
    "# เพิ่มข้อมูลทีละคอลัมน์\n",
    "df_empty['month'] = ['ม.ค.', 'ก.พ.', 'มี.ค.', 'เม.ย.', 'พ.ค.']\n",
    "df_empty['applications'] = [150, 180, 165, 200, 175]\n",
    "df_empty['approvals'] = [120, 144, 132, 160, 140]\n",
    "\n",
    "# คำนวณอัตราการอนุมัติ\n",
    "df_empty['approval_rate'] = (df_empty['approvals'] / df_empty['applications'] * 100).round(1)\n",
    "\n",
    "print(\"\\n📊 ตัวอย่าง DataFrame ที่สร้างทีละคอลัมน์:\")\n",
    "print(df_empty)"
   ]
  },
  {
   "cell_type": "markdown",
   "metadata": {},
   "source": [
    "## 🔍 การดูข้อมูลเบื้องต้น\n",
    "\n",
    "ฟังก์ชันพื้นฐานสำหรับสำรวจ DataFrame"
   ]
  },
  {
   "cell_type": "code",
   "execution_count": null,
   "metadata": {},
   "outputs": [],
   "source": [
    "# ใช้ข้อมูลลูกค้าเป็นตัวอย่าง\nprint(\"🔍 การสำรวจ DataFrame เบื้องต้น\")\nprint(\"=\"*50)\n\n# 1. ขนาดของ DataFrame\nprint(f\"📏 ขนาดข้อมูล (แถว, คอลัมน์): {df_customers.shape}\")\nprint(f\"📋 จำนวนแถว: {len(df_customers)}\")\nprint(f\"📊 จำนวนคอลัมน์: {len(df_customers.columns)}\")\n\n# 2. ชื่อคอลัมน์\nprint(f\"\\n🏷️ ชื่อคอลัมน์: {list(df_customers.columns)}\")\n\n# 3. ชนิดข้อมูลของแต่ละคอลัมน์\nprint(\"\\n📊 ชนิดข้อมูลของแต่ละคอลัมน์:\")\nprint(df_customers.dtypes)\n\n# 4. ข้อมูลทั่วไป\nprint(\"\\n📋 ข้อมูลทั่วไป:\")\nprint(df_customers.info())"
   ]
  },
  {
   "cell_type": "code",
   "execution_count": null,
   "metadata": {},
   "outputs": [],
   "source": [
    "# การดูข้อมูลบางส่วน\n",
    "\n",
    "print(\"👀 การดูข้อมูลบางส่วน\")\n",
    "print(\"=\"*40)\n",
    "\n",
    "# ดู 3 แถวแรก\n",
    "print(\"🔝 3 แถวแรก:\")\n",
    "print(df_customers.head(3))\n",
    "\n",
    "# ดู 2 แถวสุดท้าย\n",
    "print(\"\\n🔚 2 แถวสุดท้าย:\")\n",
    "print(df_customers.tail(2))\n",
    "\n",
    "# ดูข้อมูลแบบสุ่ม\n",
    "print(\"\\n🎲 2 แถวแบบสุ่ม:\")\n",
    "print(df_customers.sample(2))"
   ]
  },
  {
   "cell_type": "markdown",
   "metadata": {},
   "source": [
    "## 📊 โครงสร้างของ DataFrame\n",
    "\n",
    "เข้าใจส่วนประกอบต่างๆ ของ DataFrame"
   ]
  },
  {
   "cell_type": "code",
   "execution_count": null,
   "metadata": {},
   "outputs": [],
   "source": [
    "print(\"🏗️ โครงสร้างของ DataFrame\")\n",
    "print(\"=\"*40)\n",
    "\n",
    "# 1. Index (ดัชนีแถว)\n",
    "print(\"📑 Index (ดัชนีแถว):\")\n",
    "print(df_customers.index)\n",
    "print(f\"ประเภท: {type(df_customers.index)}\")\n",
    "\n",
    "# 2. Columns (ดัชนีคอลัมน์)\n",
    "print(\"\\n📊 Columns (ดัชนีคอลัมน์):\")\n",
    "print(df_customers.columns)\n",
    "print(f\"ประเภท: {type(df_customers.columns)}\")\n",
    "\n",
    "# 3. Values (ค่าข้อมูล)\n",
    "print(\"\\n💾 Values (ค่าข้อมูล):\")\n",
    "print(df_customers.values)\n",
    "print(f\"ประเภท: {type(df_customers.values)}\")\n",
    "print(f\"รูปร่าง: {df_customers.values.shape}\")"
   ]
  },
  {
   "cell_type": "markdown",
   "metadata": {},
   "source": [
    "## 🎯 การเข้าถึงข้อมูล\n",
    "\n",
    "วิธีการเลือกและเข้าถึงข้อมูลใน DataFrame"
   ]
  },
  {
   "cell_type": "code",
   "execution_count": null,
   "metadata": {},
   "outputs": [],
   "source": [
    "# การเลือกคอลัมน์\n",
    "\n",
    "print(\"🎯 การเลือกข้อมูล\")\n",
    "print(\"=\"*30)\n",
    "\n",
    "# เลือกคอลัมน์เดียว\n",
    "print(\"📊 คอลัมน์ 'age':\")\n",
    "print(df_customers['age'])\n",
    "print(f\"ประเภท: {type(df_customers['age'])}\\n\")\n",
    "\n",
    "# เลือกหลายคอลัมน์\n",
    "print(\"📊 หลายคอลัมน์:\")\n",
    "selected_cols = df_customers[['customer_id', 'age', 'annual_income']]\n",
    "print(selected_cols)\n",
    "print(f\"ประเภท: {type(selected_cols)}\")"
   ]
  },
  {
   "cell_type": "code",
   "execution_count": null,
   "metadata": {},
   "outputs": [],
   "source": [
    "# การเลือกแถว\n",
    "\n",
    "print(\"📑 การเลือกแถว\")\n",
    "print(\"=\"*25)\n",
    "\n",
    "# เลือกแถวตามตำแหน่ง (iloc)\n",
    "print(\"🔢 แถวที่ 0 (iloc):\")\n",
    "print(df_customers.iloc[0])\n",
    "\n",
    "# เลือกแถวตาม index (loc)\n",
    "print(\"\\n🏷️ แถวที่ index = 1 (loc):\")\n",
    "print(df_customers.loc[1])\n",
    "\n",
    "# เลือกหลายแถว\n",
    "print(\"\\n📚 แถวที่ 1-3:\")\n",
    "print(df_customers.iloc[1:4])  # ไม่รวม index 4"
   ]
  },
  {
   "cell_type": "markdown",
   "metadata": {},
   "source": [
    "## 🏦 ตัวอย่างข้อมูล Lending Club\n",
    "\n",
    "มาดู DataFrame ที่ซับซ้อนขึ้นกับข้อมูลจริง"
   ]
  },
  {
   "cell_type": "code",
   "execution_count": null,
   "metadata": {},
   "outputs": [],
   "source": [
    "# สร้างข้อมูล Lending Club ที่สมจริงมากขึ้น\n",
    "\n",
    "import random\n",
    "import datetime\n",
    "\n",
    "# กำหนด seed เพื่อให้ผลลัพธ์เหมือนกันทุกครั้ง\n",
    "random.seed(42)\n",
    "np.random.seed(42)\n",
    "\n",
    "# สร้างข้อมูลจำลอง\n",
    "n_customers = 10\n",
    "\n",
    "lending_data = {\n",
    "    'loan_id': [f'LC{i:04d}' for i in range(1, n_customers + 1)],\n",
    "    'member_id': [f'M{i:06d}' for i in range(100001, 100001 + n_customers)],\n",
    "    'loan_amount': np.random.randint(50000, 500000, n_customers),\n",
    "    'funded_amount': lambda: [amt * random.uniform(0.9, 1.0) for amt in lending_data['loan_amount']],\n",
    "    'term': np.random.choice([36, 60], n_customers),\n",
    "    'interest_rate': np.round(np.random.uniform(6.0, 18.0, n_customers), 2),\n",
    "    'grade': np.random.choice(['A', 'B', 'C', 'D', 'E'], n_customers),\n",
    "    'employment_length': np.random.choice(['< 1 year', '1 year', '2 years', '3 years', '4 years', \n",
    "                                         '5 years', '6 years', '7 years', '8 years', '9 years', \n",
    "                                         '10+ years'], n_customers),\n",
    "    'home_ownership': np.random.choice(['RENT', 'OWN', 'MORTGAGE'], n_customers),\n",
    "    'annual_income': np.random.randint(200000, 1000000, n_customers),\n",
    "    'loan_status': np.random.choice(['Current', 'Fully Paid', 'Charged Off', 'Late'], n_customers),\n",
    "    'purpose': np.random.choice(['debt_consolidation', 'credit_card', 'home_improvement', \n",
    "                               'major_purchase', 'car', 'medical', 'vacation', 'wedding'], n_customers)\n",
    "}\n",
    "\n",
    "# แก้ไข funded_amount\n",
    "lending_data['funded_amount'] = [int(amt * random.uniform(0.9, 1.0)) for amt in lending_data['loan_amount']]\n",
    "\n",
    "# สร้าง DataFrame\n",
    "df_lending = pd.DataFrame(lending_data)\n",
    "\n",
    "print(\"🏦 ตัวอย่างข้อมูล Lending Club\")\n",
    "print(\"=\"*50)\n",
    "print(df_lending)"
   ]
  },
  {
   "cell_type": "code",
   "execution_count": null,
   "metadata": {},
   "outputs": [],
   "source": [
    "# การสำรวจข้อมูล Lending Club\n",
    "\n",
    "print(\"🔍 การสำรวจข้อมูล Lending Club\")\n",
    "print(\"=\"*45)\n",
    "\n",
    "# ข้อมูลทั่วไป\n",
    "print(f\"📊 จำนวนเงินกู้: {len(df_lending)} รายการ\")\n",
    "print(f\"📋 จำนวนคอลัมน์: {len(df_lending.columns)} คอลัมน์\")\n",
    "\n",
    "# สถิติเบื้องต้น\n",
    "print(f\"\\n💰 สถิติจำนวนเงินกู้:\")\n",
    "print(f\"   เฉลี่ย: {df_lending['loan_amount'].mean():,.0f} บาท\")\n",
    "print(f\"   สูงสุด: {df_lending['loan_amount'].max():,.0f} บาท\")\n",
    "print(f\"   ต่ำสุด: {df_lending['loan_amount'].min():,.0f} บาท\")\n",
    "\n",
    "# การแจกแจงตามเกรด\n",
    "print(f\"\\n📊 การแจกแจงตามเกรด:\")\n",
    "grade_counts = df_lending['grade'].value_counts().sort_index()\n",
    "for grade, count in grade_counts.items():\n",
    "    percentage = (count / len(df_lending)) * 100\n",
    "    print(f\"   เกรด {grade}: {count} รายการ ({percentage:.1f}%)\")"
   ]
  },
  {
   "cell_type": "markdown",
   "metadata": {},
   "source": [
    "## 🎯 แบบฝึกหัด\n",
    "\n",
    "### 💭 คำถามให้คิด:\n",
    "\n",
    "1. **ความแตกต่างระหว่าง DataFrame กับ Excel:**\n",
    "   - DataFrame มีข้อดีอะไรเหนือกว่า Excel?\n",
    "   - เมื่อไหร่ควรใช้ DataFrame แทน Excel?\n",
    "\n",
    "2. **จากข้อมูล Lending Club:**\n",
    "   - คอลัมน์ไหนที่น่าจะมีความสัมพันธ์กัน?\n",
    "   - ข้อมูลไหนที่อาจต้องทำความสะอาดก่อน?"
   ]
  },
  {
   "cell_type": "code",
   "execution_count": null,
   "metadata": {},
   "outputs": [],
   "source": [
    "# 🏃‍♂️ Mini Exercise: สร้าง DataFrame ของคุณเอง\n",
    "\n",
    "# ข้อมูลพนักงานบริษัท (ตัวอย่าง)\n",
    "employee_data = {\n",
    "    'emp_id': ['E001', 'E002', 'E003', 'E004', 'E005'],\n",
    "    'name': ['สมใส', 'วิชัย', 'มานี', 'สุดา', 'ประสิทธิ์'],\n",
    "    'department': ['IT', 'HR', 'Finance', 'IT', 'Marketing'],\n",
    "    'salary': [55000, 48000, 62000, 58000, 45000],\n",
    "    'years_experience': [3, 7, 5, 2, 4]\n",
    "}\n",
    "\n",
    "print(\"🏃‍♂️ แบบฝึกหัด: สร้างและสำรวจ DataFrame\")\n",
    "print(\"=\"*50)\n",
    "\n",
    "# TODO: \n",
    "# 1. สร้าง DataFrame จากข้อมูลข้างต้น\n",
    "# 2. ดูข้อมูลเบื้องต้น (shape, dtypes, head)\n",
    "# 3. หาพนักงานที่มีเงินเดือนสูงสุดและต่ำสุด\n",
    "# 4. นับจำนวนพนักงานในแต่ละแผนก\n",
    "# 5. คำนวณเงินเดือนเฉลี่ยของแต่ละแผนก\n",
    "\n",
    "print(\"💭 ลองสร้างและวิเคราะห์ DataFrame นี้ดูนะ!\")\n",
    "print(\"🎯 เป้าหมาย: เข้าใจการใช้งาน DataFrame พื้นฐาน\")\n",
    "print(\"💡 เคล็ดลับ: ใช้ .max(), .min(), .value_counts(), .groupby()\")"
   ]
  },
  {
   "cell_type": "markdown",
   "metadata": {},
   "source": [
    "## 📚 สรุป\n",
    "\n",
    "### ✅ สิ่งที่เราได้เรียนรู้:\n",
    "\n",
    "1. **DataFrame คืออะไร**:\n",
    "   - โครงสร้างข้อมูลแบบตาราง 2 มิติ\n",
    "   - มีแถว (rows) และคอลัมน์ (columns)\n",
    "   - คล้าย Excel แต่มีความสามารถมากกว่า\n",
    "\n",
    "2. **การสร้าง DataFrame**:\n",
    "   - จาก Dictionary\n",
    "   - จาก List of Lists\n",
    "   - สร้างว่างแล้วเพิ่มข้อมูล\n",
    "\n",
    "3. **การสำรวจข้อมูล**:\n",
    "   - .shape, .dtypes, .info()\n",
    "   - .head(), .tail(), .sample()\n",
    "   - การเข้าถึงแถวและคอลัมน์\n",
    "\n",
    "4. **โครงสร้าง DataFrame**:\n",
    "   - Index (ดัชนีแถว)\n",
    "   - Columns (ดัชนีคอลัมน์)\n",
    "   - Values (ค่าข้อมูล)\n",
    "\n",
    "### 🚀 บทถัดไป:\n",
    "เราจะเรียนรู้การ **อ่านข้อมูลจากไฟล์** CSV, Excel และการจัดการข้อมูลขั้นพื้นฐาน\n",
    "\n",
    "---\n",
    "*💡 เคล็ดลับ: DataFrame เป็นหัวใจสำคัญของการวิเคราะห์ข้อมูลใน Python!*"
   ]
  }
 ],
 "metadata": {
  "kernelspec": {
   "display_name": "Python 3",
   "language": "python",
   "name": "python3"
  },
  "language_info": {
   "codemirror_mode": {
    "name": "ipython",
    "version": 3
   },
   "file_extension": ".py",
   "mimetype": "text/x-python",
   "name": "python",
   "nbconvert_exporter": "python",
   "pygments_lexer": "ipython3",
   "version": "3.8.5"
  }
 },
 "nbformat": 4,
 "nbformat_minor": 4
}
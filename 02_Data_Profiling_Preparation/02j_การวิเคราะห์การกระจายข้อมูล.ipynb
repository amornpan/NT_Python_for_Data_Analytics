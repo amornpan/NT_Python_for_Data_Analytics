
results = {}
for col in df_dist.columns:
    results[col] = distribution_analysis(df_dist[col], col)
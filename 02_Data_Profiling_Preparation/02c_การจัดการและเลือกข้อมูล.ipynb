{
 "cells": [
  {
   "cell_type": "markdown",
   "metadata": {},
   "source": [
    "# 🎯 การจัดการและเลือกข้อมูลใน DataFrame\n",
    "\n",
    "**บทเรียนที่ 2.1c - DataFrame Selection และ Manipulation**\n",
    "\n",
    "---"
   ]
  },
  {
   "cell_type": "markdown",
   "metadata": {},
   "source": [
    "## 🎯 วัตถุประสงค์\n",
    "\n",
    "หลังจากเรียนบทนี้แล้ว ผู้เรียนจะสามารถ:\n",
    "- เลือกข้อมูลจาก DataFrame ด้วยวิธีต่างๆ\n",
    "- กรองข้อมูลตามเงื่อนไข\n",
    "- เรียงลำดับและจัดกลุ่มข้อมูล\n",
    "- ปรับแต่งและแก้ไขข้อมูลใน DataFrame"
   ]
  },
  {
   "cell_type": "code",
   "execution_count": null,
   "metadata": {},
   "outputs": [],
   "source": [
    "# นำเข้า libraries ที่จำเป็น\n",
    "import pandas as pd\n",
    "import numpy as np\n",
    "\n",
    "print(\"🎯 การจัดการและเลือกข้อมูลใน DataFrame\")\n",
    "print(\"=\" * 50)"
   ]
  },
  {
   "cell_type": "markdown",
   "metadata": {},
   "source": [
    "## 📊 เตรียมข้อมูลตัวอย่าง"
   ]
  },
  {
   "cell_type": "code",
   "execution_count": null,
   "metadata": {},
   "outputs": [],
   "source": [
    "# สร้างข้อมูล Lending Club จำลอง\n",
    "np.random.seed(42)\n",
    "\n",
    "lending_data = {\n",
    "    'loan_id': [f'LC{i:04d}' for i in range(1, 16)],\n",
    "    'member_id': [f'M{i:06d}' for i in range(100001, 100016)],\n",
    "    'loan_amount': [150000, 200000, 300000, 250000, 180000, 350000, 120000, \n",
    "                   280000, 160000, 400000, 220000, 190000, 320000, 170000, 240000],\n",
    "    'funded_amount': [150000, 195000, 295000, 240000, 180000, 340000, 115000,\n",
    "                     275000, 155000, 390000, 210000, 185000, 310000, 165000, 235000],\n",
    "    'term': [36, 60, 36, 60, 36, 60, 36, 60, 36, 60, 36, 60, 36, 60, 36],\n",
    "    'interest_rate': [8.5, 12.3, 15.1, 9.8, 11.2, 16.8, 7.2, 13.5, 10.1, \n",
    "                     18.2, 14.3, 8.9, 17.1, 9.5, 12.8],\n",
    "    'grade': ['A', 'B', 'D', 'A', 'B', 'E', 'A', 'C', 'B', 'E', 'D', 'A', 'E', 'A', 'C'],\n",
    "    'loan_status': ['Current', 'Fully Paid', 'Charged Off', 'Current', 'Late (31-120 days)',\n",
    "                   'Fully Paid', 'Current', 'Charged Off', 'Current', 'Fully Paid',\n",
    "                   'Late (16-30 days)', 'Current', 'Charged Off', 'Current', 'Fully Paid'],\n",
    "    'purpose': ['debt_consolidation', 'credit_card', 'home_improvement', 'car', 'medical',\n",
    "               'debt_consolidation', 'vacation', 'home_improvement', 'credit_card', 'major_purchase',\n",
    "               'car', 'debt_consolidation', 'home_improvement', 'credit_card', 'car']\n",
    "}\n",
    "\n",
    "df = pd.DataFrame(lending_data)\n",
    "\n",
    "print(\"📊 ข้อมูล Lending Club ตัวอย่าง:\")\n",
    "print(f\"ขนาด: {df.shape}\")\n",
    "print(df.head())"
   ]
  },
  {
   "cell_type": "markdown",
   "metadata": {},
   "source": [
    "## 🔍 การเลือกข้อมูลพื้นฐาน"
   ]
  },
  {
   "cell_type": "code",
   "execution_count": null,
   "metadata": {},
   "outputs": [],
   "source": [
    "print(\"🔍 การเลือกข้อมูลพื้นฐาน\")\n",
    "print(\"=\" * 35)\n",
    "\n",
    "# 1. เลือกคอลัมน์เดียว\n",
    "print(\"1️⃣ เลือกคอลัมน์ 'loan_amount':\")\n",
    "loan_amounts = df['loan_amount']\n",
    "print(f\"ประเภท: {type(loan_amounts)}\")\n",
    "print(f\"5 ค่าแรก: {loan_amounts.head().tolist()}\")\n",
    "\n",
    "# 2. เลือกหลายคอลัมน์\n",
    "print(\"\\n2️⃣ เลือกหลายคอลัมน์:\")\n",
    "basic_info = df[['loan_id', 'loan_amount', 'grade', 'loan_status']]\n",
    "print(f\"ขนาด: {basic_info.shape}\")\n",
    "print(basic_info.head(3))"
   ]
  },
  {
   "cell_type": "markdown",
   "metadata": {},
   "source": [
    "## 📚 สรุป\n",
    "\n",
    "### ✅ สิ่งที่เราได้เรียนรู้:\n",
    "\n",
    "1. **การเลือกข้อมูล**:\n",
    "   - เลือกคอลัมน์เดียวและหลายคอลัมน์\n",
    "   - การใช้ .iloc และ .loc\n",
    "\n",
    "2. **การกรองข้อมูล**:\n",
    "   - เงื่อนไขเดียวและหลายเงื่อนไข\n",
    "   - การใช้ .isin() และ .str.contains()\n",
    "\n",
    "### 🚀 บทถัดไป:\n",
    "เราจะเรียนรู้การ **ทำ Data Profiling** - การตรวจสอบคุณภาพข้อมูล\n",
    "\n",
    "---\n",
    "*💡 เคล็ดลับ: การเลือกข้อมูลที่ถูกต้องเป็นพื้นฐานของการวิเคราะห์ที่มีประสิทธิภาพ!*"
   ]
  }
 ],
 "metadata": {
  "kernelspec": {
   "display_name": "Python 3",
   "language": "python",
   "name": "python3"
  },
  "language_info": {
   "codemirror_mode": {
    "name": "ipython",
    "version": 3
   },
   "file_extension": ".py",
   "mimetype": "text/x-python",
   "name": "python",
   "nbconvert_exporter": "python",
   "pygments_lexer": "ipython3",
   "version": "3.8.5"
  }
 },
 "nbformat": 4,
 "nbformat_minor": 4
}
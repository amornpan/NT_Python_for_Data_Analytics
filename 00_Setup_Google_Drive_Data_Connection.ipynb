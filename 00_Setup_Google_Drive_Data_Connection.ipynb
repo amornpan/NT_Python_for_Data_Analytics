{
 "cells": [
  {
   "cell_type": "markdown",
   "metadata": {},
   "source": [
    "# 🔗 การเชื่อมต่อ Google Drive และโหลดข้อมูล Lending Club\n",
    "\n",
    "**Notebook สำหรับ Course 250FDEV01C00**\n",
    "\n",
    "---\n",
    "\n",
    "## 🎯 วัตถุประสงค์\n",
    "- เรียนรู้การเชื่อมต่อ Google Drive ใน Google Colab\n",
    "- โหลดและสำรวจข้อมูล Lending Club เบื้องต้น\n",
    "- ทำความเข้าใจโครงสร้างข้อมูลที่จะใช้ตลอดหลักสูตร"
   ]
  },
  {
   "cell_type": "markdown",
   "metadata": {},
   "source": [
    "## 📋 ขั้นตอนการเตรียมความพร้อม\n",
    "\n",
    "### ก่อนรันโค้ดนี้ ให้แน่ใจว่า:\n",
    "1. ✅ คุณมี Google Account\n",
    "2. ✅ ได้อัปโหลดไฟล์ `LoanStats_web_14422.csv` ไปยัง Google Drive\n",
    "3. ✅ ไฟล์อยู่ในโฟลเดอร์: `MyDrive/NT_Python_for_Data_Analytics/`"
   ]
  },
  {
   "cell_type": "markdown",
   "metadata": {},
   "source": [
    "## 🚀 ขั้นตอนที่ 1: Import Libraries และ Mount Google Drive"
   ]
  },
  {
   "cell_type": "code",
   "execution_count": null,
   "metadata": {},
   "outputs": [],
   "source": [
    "# Import libraries ที่จำเป็น\n",
    "from google.colab import drive\n",
    "import pandas as pd\n",
    "import numpy as np\n",
    "import matplotlib.pyplot as plt\n",
    "import seaborn as sns\n",
    "import os\n",
    "\n",
    "print(\"📚 Libraries imported successfully!\")"
   ]
  },
  {
   "cell_type": "code",
   "execution_count": null,
   "metadata": {},
   "outputs": [],
   "source": [
    "# Mount Google Drive\n",
    "print(\"🔗 กำลังเชื่อมต่อ Google Drive...\")\n",
    "drive.mount('/content/drive')\n",
    "print(\"✅ เชื่อมต่อสำเร็จ!\")\n",
    "\n",
    "# ตรวจสอบว่า Drive มีอะไรบ้าง\n",
    "print(\"\\n📁 ไฟล์และโฟลเดอร์ใน MyDrive:\")\n",
    "try:\n",
    "    files = os.listdir('/content/drive/MyDrive')\n",
    "    for i, file in enumerate(files[:10], 1):  # แสดง 10 ไฟล์แรก\n",
    "        print(f\"  {i}. {file}\")\n",
    "    if len(files) > 10:\n",
    "        print(f\"  ... และอีก {len(files) - 10} ไฟล์\")\nexcept Exception as e:\n",
    "    print(f\"❌ ไม่สามารถเข้าถึง Drive ได้: {e}\")"
   ]
  },
  {
   "cell_type": "markdown",
   "metadata": {},
   "source": [
    "## 📂 ขั้นตอนที่ 2: สร้างโฟลเดอร์และตรวจสอบไฟล์ข้อมูล"
   ]
  },
  {
   "cell_type": "code",
   "execution_count": null,
   "metadata": {},
   "outputs": [],
   "source": [
    "# สร้างโฟลเดอร์สำหรับหลักสูตร (ถ้ายังไม่มี)\n",
    "course_folder = '/content/drive/MyDrive/NT_Python_for_Data_Analytics'\n",
    "os.makedirs(course_folder, exist_ok=True)\n",
    "print(f\"📁 โฟลเดอร์หลักสูตร: {course_folder}\")\n",
    "\n",
    "# กำหนด path ไปยังไฟล์ข้อมูล\n",
    "DATA_PATH = os.path.join(course_folder, 'LoanStats_web_14422.csv')\n",
    "print(f\"📄 ไฟล์ข้อมูล: {DATA_PATH}\")\n",
    "\n",
    "# ตรวจสอบว่ามีไฟล์หรือไม่\n",
    "if os.path.exists(DATA_PATH):\n",
    "    file_size = os.path.getsize(DATA_PATH) / (1024 * 1024)  # MB\n",
    "    print(f\"✅ พบไฟล์ข้อมูล!\")\n",
    "    print(f\"📊 ขนาดไฟล์: {file_size:.2f} MB\")\nelse:\n",
    "    print(f\"❌ ไม่พบไฟล์ LoanStats_web_14422.csv\")\n",
    "    print(f\"📝 กรุณาอัปโหลดไฟล์ไปยัง: {course_folder}\")\n",
    "    \n",
    "    # แสดงไฟล์ที่มีในโฟลเดอร์\n",
    "    if os.path.exists(course_folder):\n",
    "        files_in_folder = os.listdir(course_folder)\n",
    "        if files_in_folder:\n",
    "            print(f\"\\n📋 ไฟล์ที่มีในโฟลเดอร์:\")\n",
    "            for file in files_in_folder:\n",
    "                print(f\"  - {file}\")\n",
    "        else:\n",
    "            print(f\"\\n📋 โฟลเดอร์ว่างเปล่า\")"
   ]
  },
  {
   "cell_type": "markdown",
   "metadata": {},
   "source": [
    "## 📊 ขั้นตอนที่ 3: โหลดและสำรวจข้อมูลเบื้องต้น"
   ]
  },
  {
   "cell_type": "code",
   "execution_count": null,
   "metadata": {},
   "outputs": [],
   "source": [
    "# ฟังก์ชันสำหรับโหลดข้อมูล\n",
    "def load_lending_club_data(file_path, sample_size=None):\n",
    "    \"\"\"\n",
    "    โหลดข้อมูล Lending Club\n",
    "    \n",
    "    Parameters:\n",
    "    file_path (str): path ไปยังไฟล์ CSV\n",
    "    sample_size (int): จำนวนแถวที่ต้องการโหลด (None = ทั้งหมด)\n",
    "    \n",
    "    Returns:\n",
    "    pandas.DataFrame: ข้อมูลที่โหลดแล้ว\n",
    "    \"\"\"\n",
    "    try:\n",
    "        print(f\"📥 กำลังโหลดข้อมูล...\")\n",
    "        \n",
    "        if sample_size:\n",
    "            df = pd.read_csv(file_path, nrows=sample_size, low_memory=False)\n",
    "            print(f\"📊 โหลดข้อมูลตัวอย่าง {sample_size:,} แถว\")\n",
    "        else:\n",
    "            df = pd.read_csv(file_path, low_memory=False)\n",
    "            print(f\"📊 โหลดข้อมูลทั้งหมด\")\n",
    "        \n",
    "        print(f\"✅ โหลดสำเร็จ!\")\n",
    "        print(f\"📏 ขนาดข้อมูล: {df.shape[0]:,} แถว × {df.shape[1]:,} คอลัมน์\")\n",
    "        \n",
    "        return df\n",
    "        \n",
    "    except FileNotFoundError:\n",
    "        print(f\"❌ ไม่พบไฟล์: {file_path}\")\n",
    "        return None\n",
    "    except Exception as e:\n",
    "        print(f\"❌ เกิดข้อผิดพลาด: {e}\")\n",
    "        return None\n",
    "\n",
    "# โหลดข้อมูลตัวอย่าง (1000 แถวแรก เพื่อความเร็ว)\n",
    "df_sample = load_lending_club_data(DATA_PATH, sample_size=1000)"
   ]
  },
  {
   "cell_type": "code",
   "execution_count": null,
   "metadata": {},
   "outputs": [],
   "source": [
    "# สำรวจข้อมูลเบื้องต้น\n",
    "if df_sample is not None:\n",
    "    print(\"🔍 การสำรวจข้อมูล LENDING CLUB\")\n",
    "    print(\"=\" * 50)\n",
    "    \n",
    "    # ข้อมูลพื้นฐาน\n",
    "    print(f\"📊 จำนวนข้อมูล: {len(df_sample):,} รายการสินเชื่อ\")\n",
    "    print(f\"📋 จำนวนฟีเจอร์: {len(df_sample.columns)} ตัวแปร\")\n",
    "    print(f\"💾 ขนาดในหน่วยความจำ: {df_sample.memory_usage(deep=True).sum() / 1024**2:.2f} MB\")\n",
    "    \n",
    "    # แสดงคอลัมน์สำคัญ\n",
    "    important_columns = ['loan_amnt', 'int_rate', 'grade', 'loan_status', 'annual_inc', \n",
    "                        'purpose', 'dti', 'emp_length']\n",
    "    available_important = [col for col in important_columns if col in df_sample.columns]\n",
    "    \n",
    "    print(f\"\\n🔑 คอลัมน์สำคัญที่พบ ({len(available_important)}/{len(important_columns)}):\")\n",
    "    for i, col in enumerate(available_important, 1):\n",
    "        print(f\"  {i}. {col}\")\n",
    "    \n",
    "    # แสดงคอลัมน์ทั้งหมด (10 ตัวแรก)\n",
    "    print(f\"\\n📋 คอลัมน์ทั้งหมด (แสดง 10 ตัวแรก):\")\n",
    "    for i, col in enumerate(df_sample.columns[:10], 1):\n",
    "        print(f\"  {i:2d}. {col}\")\n",
    "    \n",
    "    if len(df_sample.columns) > 10:\n",
    "        print(f\"  ... และอีก {len(df_sample.columns) - 10} คอลัมน์\")\n",
    "        \nelse:\n",
    "    print(\"❌ ไม่สามารถโหลดข้อมูลได้\")"
   ]
  },
  {
   "cell_type": "markdown",
   "metadata": {},
   "source": [
    "## 📈 ขั้นตอนที่ 4: การวิเคราะห์ข้อมูลเบื้องต้น"
   ]
  },
  {
   "cell_type": "code",
   "execution_count": null,
   "metadata": {},
   "outputs": [],
   "source": [
    "# วิเคราะห์ข้อมูลสำคัญ\n",
    "if df_sample is not None:\n",
    "    print(\"📊 การวิเคราะห์ข้อมูลเบื้องต้น\")\n",
    "    print(\"=\" * 40)\n",
    "    \n",
    "    # 1. ข้อมูลจำนวนเงินกู้\n",
    "    if 'loan_amnt' in df_sample.columns:\n",
    "        loan_stats = df_sample['loan_amnt'].describe()\n",
    "        print(f\"\\n💰 สถิติจำนวนเงินกู้:\")\n",
    "        print(f\"   💵 เฉลี่ย: ${loan_stats['mean']:,.2f}\")\n",
    "        print(f\"   📊 มัธยฐาน: ${loan_stats['50%']:,.2f}\")\n",
    "        print(f\"   📈 สูงสุด: ${loan_stats['max']:,.2f}\")\n",
    "        print(f\"   📉 ต่ำสุด: ${loan_stats['min']:,.2f}\")\n",
    "    \n",
    "    # 2. ข้อมูลอัตราดอกเบี้ย\n",
    "    if 'int_rate' in df_sample.columns:\n",
    "        # แปลง string เป็น numeric (ลบเครื่องหมาย %)\n",
    "        try:\n",
    "            if df_sample['int_rate'].dtype == 'object':\n",
    "                int_rate_clean = df_sample['int_rate'].str.rstrip('%').astype(float)\n",
    "            else:\n",
    "                int_rate_clean = df_sample['int_rate']\n",
    "            \n",
    "            print(f\"\\n📊 สถิติอัตราดอกเบี้ย:\")\n",
    "            print(f\"   📈 เฉลี่ย: {int_rate_clean.mean():.2f}%\")\n",
    "            print(f\"   📊 มัธยฐาน: {int_rate_clean.median():.2f}%\")\n",
    "            print(f\"   🔺 สูงสุด: {int_rate_clean.max():.2f}%\")\n",
    "            print(f\"   🔻 ต่ำสุด: {int_rate_clean.min():.2f}%\")\n",
    "        except:\n",
    "            print(f\"\\n⚠️ ไม่สามารถวิเคราะห์อัตราดอกเบี้ยได้\")\n",
    "    \n",
    "    # 3. การจัดเกรดสินเชื่อ\n",
    "    if 'grade' in df_sample.columns:\n",
    "        grade_counts = df_sample['grade'].value_counts().sort_index()\n",
    "        print(f\"\\n🏆 การกระจายเกรดสินเชื่อ:\")\n",
    "        for grade, count in grade_counts.head(7).items():\n",
    "            percentage = (count / len(df_sample)) * 100\n",
    "            print(f\"   เกรด {grade}: {count:,} คน ({percentage:.1f}%)\")\n",
    "    \n",
    "    # 4. สถานะการชำระ\n",
    "    if 'loan_status' in df_sample.columns:\n",
    "        status_counts = df_sample['loan_status'].value_counts()\n",
    "        print(f\"\\n📋 สถานะการชำระ (Top 5):\")\n",
    "        for status, count in status_counts.head(5).items():\n",
    "            percentage = (count / len(df_sample)) * 100\n",
    "            print(f\"   {status}: {count:,} คน ({percentage:.1f}%)\")"
   ]
  },
  {
   "cell_type": "markdown",
   "metadata": {},
   "source": [
    "## 👀 ขั้นตอนที่ 5: ดูตัวอย่างข้อมูล"
   ]
  },
  {
   "cell_type": "code",
   "execution_count": null,
   "metadata": {},
   "outputs": [],
   "source": [
    "# แสดงตัวอย่างข้อมูล\n",
    "if df_sample is not None:\n",
    "    print(\"👀 ตัวอย่างข้อมูล 5 แถวแรก\")\n",
    "    print(\"=\" * 30)\n",
    "    \n",
    "    # เลือกคอลัมน์สำคัญมาแสดง\n",
    "    display_columns = ['loan_amnt', 'int_rate', 'grade', 'loan_status', 'annual_inc']\n",
    "    available_display = [col for col in display_columns if col in df_sample.columns]\n",
    "    \n",
    "    if available_display:\n",
    "        sample_data = df_sample[available_display].head()\n",
    "        print(sample_data)\n",
    "    else:\n",
    "        print(\"แสดงคอลัมน์ที่มี:\")\n",
    "        print(df_sample.head())"
   ]
  },
  {
   "cell_type": "markdown",
   "metadata": {},
   "source": [
    "## 🔍 ขั้นตอนที่ 6: ตรวจสอบคุณภาพข้อมูล"
   ]
  },
  {
   "cell_type": "code",
   "execution_count": null,
   "metadata": {},
   "outputs": [],
   "source": [
    "# ตรวจสอบคุณภาพข้อมูล\n",
    "if df_sample is not None:\n",
    "    print(\"🔍 การตรวจสอบคุณภาพข้อมูล\")\n",
    "    print(\"=\" * 35)\n",
    "    \n",
    "    # 1. Missing values\n",
    "    missing_counts = df_sample.isnull().sum()\n",
    "    missing_columns = missing_counts[missing_counts > 0].sort_values(ascending=False)\n",
    "    \n",
    "    total_missing = missing_counts.sum()\n",
    "    total_cells = len(df_sample) * len(df_sample.columns)\n",
    "    missing_percentage = (total_missing / total_cells) * 100\n",
    "    \n",
    "    print(f\"❓ Missing Values:\")\n",
    "    print(f\"   📊 ทั้งหมด: {total_missing:,} ค่า ({missing_percentage:.2f}%)\")\n",
    "    print(f\"   📋 คอลัมน์ที่มี missing: {len(missing_columns)}/{len(df_sample.columns)}\")\n",
    "    \n",
    "    if len(missing_columns) > 0:\n",
    "        print(f\"\\n   🔝 Top 5 คอลัมน์ที่มี missing มากที่สุด:\")\n",
    "        for col, count in missing_columns.head(5).items():\n",
    "            pct = (count / len(df_sample)) * 100\n",
    "            print(f\"     - {col}: {count:,} ({pct:.1f}%)\")\n",
    "    \n",
    "    # 2. Data types\n",
    "    dtype_counts = df_sample.dtypes.value_counts()\n",
    "    print(f\"\\n📊 ประเภทข้อมูล:\")\n",
    "    for dtype, count in dtype_counts.items():\n",
    "        print(f\"   {dtype}: {count} คอลัมน์\")\n",
    "    \n",
    "    # 3. Duplicates\n",
    "    duplicate_count = df_sample.duplicated().sum()\n",
    "    print(f\"\\n🔄 ข้อมูลซ้ำ: {duplicate_count:,} แถว ({(duplicate_count/len(df_sample)*100):.2f}%)\")"
   ]
  },
  {
   "cell_type": "markdown",
   "metadata": {},
   "source": [
    "## 🎯 ขั้นตอนที่ 7: ฟังก์ชันสำหรับใช้งานต่อไป"
   ]
  },
  {
   "cell_type": "code",
   "execution_count": null,
   "metadata": {},
   "outputs": [],
   "source": [
    "# ฟังก์ชันเสริมสำหรับใช้งานใน Labs ต่อไป\n",
    "def quick_data_info(df, title=\"Data Information\"):\n",
    "    \"\"\"\n",
    "    แสดงข้อมูลสรุปอย่างรวดเร็ว\n",
    "    \"\"\"\n",
    "    print(f\"📊 {title}\")\n",
    "    print(\"=\" * len(title))\n",
    "    print(f\"Shape: {df.shape}\")\n",
    "    print(f\"Missing values: {df.isnull().sum().sum():,}\")\n",
    "    print(f\"Memory usage: {df.memory_usage(deep=True).sum()/1024**2:.2f} MB\")\n",
    "    return df.info()\n",
    "\n",
    "def load_full_data():\n",
    "    \"\"\"\n",
    "    โหลดข้อมูลเต็ม (ใช้เมื่อต้องการข้อมูลทั้งหมด)\n",
    "    \"\"\"\n",
    "    return load_lending_club_data(DATA_PATH)\n",
    "\n",
    "def get_sample_data(n=1000):\n",
    "    \"\"\"\n",
    "    โหลดข้อมูลตัวอย่าง n แถว\n",
    "    \"\"\"\n",
    "    return load_lending_club_data(DATA_PATH, sample_size=n)\n",
    "\n",
    "# ทดสอบฟังก์ชัน\n",
    "if df_sample is not None:\n",
    "    print(\"✅ ฟังก์ชันเสริมพร้อมใช้งาน!\")\n",
    "    print(\"\\n📝 ฟังก์ชันที่สามารถใช้งานได้:\")\n",
    "    print(\"   - quick_data_info(df, title)\")\n",
    "    print(\"   - load_full_data()\")\n",
    "    print(\"   - get_sample_data(n)\")"
   ]
  },
  {
   "cell_type": "markdown",
   "metadata": {},
   "source": [
    "## 📝 สรุปและขั้นตอนถัดไป\n",
    "\n",
    "### ✅ สิ่งที่เราได้ทำในบทนี้:\n",
    "1. **เชื่อมต่อ Google Drive** และตรวจสอบการเข้าถึงข้อมูล\n",
    "2. **โหลดข้อมูล Lending Club** และสำรวจโครงสร้างเบื้องต้น\n",
    "3. **วิเคราะห์ข้อมูลสำคัญ** เช่น จำนวนเงินกู้ อัตราดอกเบี้ย และเกรดสินเชื่อ\n",
    "4. **ตรวจสอบคุณภาพข้อมูล** รวมถึง missing values และ data types\n",
    "5. **สร้างฟังก์ชันเสริม** สำหรับใช้งานใน Labs ถัดไป\n",
    "\n",
    "### 🚀 ขั้นตอนถัดไป:\n",
    "- **Module 1**: เรียนรู้หลักการ Data Analytics และ Python เบื้องต้น\n",
    "- **Module 2**: Data Profiling และการเตรียมข้อมูลอย่างละเอียด\n",
    "- **Module 3**: สร้าง Machine Learning Models เพื่อพยากรณ์และจำแนกข้อมูล\n",
    "\n",
    "### 💡 เคล็ดลับ:\n",
    "- ใช้ `df_sample` สำหรับการทดลองเพื่อความเร็ว\n",
    "- ใช้ `load_full_data()` เมื่อต้องการข้อมูลเต็ม\n",
    "- อย่าลืม Mount Drive ก่อนเสมอในทุก Notebook ใหม่\n",
    "\n",
    "---\n",
    "*🎓 Course: 250FDEV01C00 - Python for Data Analytics*"
   ]
  }
 ],
 "metadata": {
  "kernelspec": {
   "display_name": "Python 3",
   "language": "python",
   "name": "python3"
  },
  "language_info": {
   "codemirror_mode": {
    "name": "ipython",
    "version": 3
   },
   "file_extension": ".py",
   "mimetype": "text/x-python",
   "name": "python",
   "nbconvert_exporter": "python",
   "pygments_lexer": "ipython3",
   "version": "3.8.5"
  }
 },
 "nbformat": 4,
 "nbformat_minor": 4
}